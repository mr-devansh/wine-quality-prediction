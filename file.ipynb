import pandas as pd
import numpy as np
from sklearn.model_selection import train_test_split
from sklearn.linear_model import LinearRegression
from sklearn.metrics import mean_squared_error, r2_score


# Load the dataset
data = pd.read_csv('wine_data.csv')

data =data.dropna()


# Split the data into input features (X) and target variable (y)
X = data.drop('quality', axis=1)
y = data['quality']



from sklearn.compose import ColumnTransformer
from sklearn.preprocessing import OneHotEncoder
ct = ColumnTransformer(transformers =[('encoder', OneHotEncoder(), [0])], remainder = 'passthrough')
#inputs for transformer:kind of transformation, kind of encoding and remainder
from sklearn.preprocessing import PolynomialFeatures
model = PolynomialFeatures(degree=5)


X = np.array(ct.fit_transform(X)) #we need X to be numpy array to apply any ML model
X_poly = model.fit_transform(X_test)

# Split the data into training and testing sets
X_train, X_test, y_train, y_test = train_test_split(X, y, test_size=0.2, random_state=42)

# Initialize the linear regression model
# model = LinearRegression()

# # Train the model
# model.fit(X_train, y_train)


linear_model_2 = LinearRegression()
linear_model_2.fit(X_poly, y_test)
     
# print(X_train.shape, X_test.shape, y_train.shape, y_test.shape, X_poly.shape)

# Make predictions on the test set
y_pred = linear_model_2.predict(X_poly)

# Evaluate the model
mse = mean_squared_error(y_test, y_pred)
print('Mean Squared Error:', mse)

r2 = r2_score(y_test, y_pred)
print('R2 Score:', r2)
